{
 "cells": [
  {
   "cell_type": "markdown",
   "id": "2d544202-7d73-47bb-bc0b-d0bd3c21ed0f",
   "metadata": {},
   "source": [
    "1ans:"
   ]
  },
  {
   "cell_type": "markdown",
   "id": "969ee352-953e-48d9-aae0-1eba99c4a1aa",
   "metadata": {},
   "source": [
    "The three measures of central tendency are:\n",
    "\n",
    "Mean: The mean is the sum of all the values in a data set divided by the number of values. It is the most commonly used measure of central tendency.\n",
    "\n",
    "Median: The median is the middle value in a data set when the values are arranged in order. If there is an even number of values, the median is the average of the two middle values.\n",
    "\n",
    "Mode: The mode is the value that appears most frequently in a data set. It is useful for finding the most common value or category in a data set."
   ]
  },
  {
   "cell_type": "markdown",
   "id": "00fc06c4-0740-4f5b-8b50-81a1a01caf4b",
   "metadata": {},
   "source": [
    "2ans:\n",
    "    \n",
    "The mean is calculated by summing all the values in a dataset and dividing by the number of values. It represents the average value of the dataset and is the most commonly used measure of central tendency. However, the mean is sensitive to outliers and can be skewed by extreme values.\n",
    "\n",
    "The median is the middle value in a dataset when the values are arranged in order. It is useful when a dataset has outliers or extreme values that could skew the mean. The median represents the value that separates the upper 50% of the dataset from the lower 50%.\n",
    "\n",
    "The mode is the value that appears most frequently in a dataset. It is useful for identifying the most common value or category in a dataset. The mode can be used for both numerical and categorical data.\n",
    "\n",
    "The mean is useful for representing the average value of a dataset, but may not be appropriate when a dataset has extreme values. The median is useful when a dataset has outliers or extreme values. The mode is useful for identifying the most common value or category in a datase\n",
    "    "
   ]
  },
  {
   "cell_type": "markdown",
   "id": "2736e3e4-dd7a-4791-a00d-a9208b2a1460",
   "metadata": {},
   "source": [
    "3ans:\n",
    "\n",
    "Mean:\n",
    "The mean is calculated by adding up all the values in the dataset and dividing by the number of values.\n",
    "\n",
    "Mean = (178 + 177 + 176 + 177 + 178.2 + 178 + 175 + 179 + 180 + 175 + 178.9 + 176.2 + 177 + 172.5 + 178 + 176.5) / 16\n",
    "\n",
    "Mean = 176.96\n",
    "\n",
    "Therefore, the mean height is 176.96 cm.\n",
    "\n",
    "Median:\n",
    "The median is the middle value when the data is sorted in order.\n",
    "\n",
    "First, we need to sort the data in ascending order:\n",
    "\n",
    "[172.5, 175, 175, 176, 176.2, 176.5, 177, 177, 178, 178, 178, 178.2, 178.9, 179, 180]\n",
    "Since there are an even number of values, we take the average of the two middle values:\n",
    "\n",
    "Median = (176 + 177) / 2\n",
    "\n",
    "Median = 176.5\n",
    "\n",
    "Therefore, the median height is 176.5 cm.\n",
    "\n",
    "Mode:\n",
    "The mode is the value that appears most frequently in the dataset.\n",
    "\n",
    "In the given height data, there is no value that appears more than once, so there is no mode.\n",
    "\n",
    "Therefore, the mode for this dataset is not applicable.\n"
   ]
  },
  {
   "cell_type": "markdown",
   "id": "4c95e925-d98f-4b07-93d8-99d3981f2f00",
   "metadata": {},
   "source": [
    "4ans:\n",
    "      Standard deviation = sqrt((Σ(x - μ)^2) / N)\n",
    "\n",
    "Where:\n",
    "\n",
    "Σ = sum of\n",
    "x = each data value\n",
    "μ = mean of the data set\n",
    "N = total number of data values\n",
    "\n",
    "Mean = (178 + 177 + 176 + 177 + 178.2 + 178 + 175 + 179 + 180 + 175 + 178.9 + 176.2 + 177 + 172.5 + 178 + 176.5) / 16\n",
    "\n",
    "Mean = 176.96\n",
    "\n",
    "Σ(x - μ)^2 = 170.2964\n",
    "\n",
    "Standard deviation = sqrt(170.2964 / 16)\n",
    "\n",
    "Standard deviation = sqrt(10.643525)\n",
    "\n",
    "Standard deviation = 3.263"
   ]
  },
  {
   "cell_type": "markdown",
   "id": "f11bc654-804b-4df3-a5d2-55a4c358a47a",
   "metadata": {},
   "source": [
    "5ans:\n",
    "     \n",
    "The range is the simplest measure of dispersion and is calculated as the difference between the maximum and minimum values in a dataset. For example, if the dataset contains the following values: 2, 4, 6, 8, and 10, the range is 10-2=8.\n",
    "\n",
    "The variance is a measure of how much the data deviate from the mean, while the standard deviation is the square root of the variance and provides a measure of the spread of the data relative to the mean.\n",
    "\n",
    "For example, consider a dataset of the following test scores of students in a class: 80, 85, 90, 92, 95. The mean of this dataset is (80+85+90+92+95)/5 = 88.4. The variance can be calculated by first finding the difference between each score and the mean, squaring those differences, and then averaging the squared differences.\n",
    "\n",
    "[(80-88.4)^2 + (85-88.4)^2 + (90-88.4)^2 + (92-88.4)^2 + (95-88.4)^2] / 5 = 44.24\n",
    "\n",
    "The standard deviation is simply the square root of the variance, which in this case is sqrt(44.24) = 6.65.\n",
    "\n",
    "\n",
    "\n",
    "\n"
   ]
  },
  {
   "cell_type": "markdown",
   "id": "471bf4e7-ca37-453d-aed8-fb94039575f1",
   "metadata": {},
   "source": [
    "6ans:\n",
    "    \n",
    "A Venn diagram is a graphical representation used to show the relationships between sets or groups of items. It consists of one or more overlapping circles or other shapes, where each circle or shape represents a set, and the overlapping region represents the items that belong to both sets.\n",
    "    "
   ]
  },
  {
   "cell_type": "markdown",
   "id": "eaf35cc7-1896-40ba-b7c7-da196def30c1",
   "metadata": {},
   "source": [
    "7ans:\n",
    "    \n",
    "i) A intersection B represents the set of elements that are common to both A and B. From the given sets A and B, the common elements are 2 and 6. Therefore, A intersection B = {2, 6}.\n",
    "\n",
    "(ii) A ⋃ B represents the set of all elements that are in either A or B (or both). Combining the given sets A and B, we get A ⋃ B = {0, 2, 3, 4, 5, 6, 7, 8, 10}.\n",
    "    "
   ]
  },
  {
   "cell_type": "markdown",
   "id": "468d9c2e-d9b9-4a0d-a759-a971662157c3",
   "metadata": {},
   "source": [
    "8ans:\n",
    "   \n",
    "   Skewness is a measure of the asymmetry of a probability distribution or a dataset around its mean. It is a statistical term that describes the extent to which the values in a distribution are not symmetrically distributed around the mean.\n",
    "\n",
    "If a distribution is symmetric, then its skewness is zero. However, if the distribution is not symmetric, then its skewness can be either positive or negative.\n",
    "    "
   ]
  },
  {
   "cell_type": "markdown",
   "id": "59fe7585-44a7-4468-bcdb-bb35611c8182",
   "metadata": {},
   "source": [
    "9ans:\n",
    "\n",
    "If a data is right-skewed, then the median will be less than the mean. This is because the right-skewed distribution has a long tail towards the right side, and the few very high values in the tail pull the mean towards the higher end of the distribution. "
   ]
  },
  {
   "cell_type": "markdown",
   "id": "4e941bd0-5269-4fba-bdbe-5cb981bf58c4",
   "metadata": {},
   "source": [
    "10ans:\n",
    "\n",
    "Covariance:  It is a measure of the direction of the linear relationship between two variables. If the covariance is positive, it indicates that the two variables are positively related, and as one variable increases, the other variable also tends to increase. If the covariance is negative, it indicates that the two variables are negatively related, and as one variable increases, the other variable tends to decrease. A covariance of zero indicates that there is no linear relationship between the two variables.\n",
    "\n",
    "Correlation: Correlation is a standardized version of covariance, which measures the strength and direction of the linear relationship between two variables. Unlike covariance, correlation is always between -1 and 1, with 1 indicating a perfect positive correlation, -1 indicating a perfect negative correlation, and 0 indicating no correlation between the two variables.\n",
    "\n",
    "In statistical analysis, both covariance and correlation are used to identify the degree and direction of the relationship between two variables. They are commonly used in regression analysis, where the goal is to model the relationship between a dependent variable and one or more independent variables."
   ]
  },
  {
   "cell_type": "markdown",
   "id": "44b5dc28-4fff-41c6-912f-afc0e4e96a51",
   "metadata": {},
   "source": [
    "11ans:\n",
    "    \n",
    " The formula for calculating the sample mean, denoted by x̄, is:\n",
    "\n",
    "x̄ = (x₁ + x₂ + ... + xn) / n\n",
    "\n",
    "where x₁, x₂, ..., xn are the values of the dataset, and n is the sample size.\n",
    "\n",
    "As an example, let's say we have the following dataset of 5 numbers: 3, 7, 5, 11, 2.\n",
    "\n",
    "To calculate the sample mean, we would add up all the values and divide by the sample size:\n",
    "\n",
    "x̄ = (3 + 7 + 5 + 11 + 2) / 5\n",
    "x̄ = 28 / 5\n",
    "x̄ = 5.6\n",
    "\n",
    "Therefore, the sample mean of the dataset is 5.6."
   ]
  },
  {
   "cell_type": "markdown",
   "id": "f3f8a2e2-ee17-4745-943b-5d045ce818c1",
   "metadata": {},
   "source": [
    "12ans:\n",
    "    For a normal distribution, the measures of central tendency, namely the mean, median, and mode, are all equal to each other.\n",
    "\n",
    "This is because a normal distribution is symmetric around its mean, with the median and mode also being at the same point."
   ]
  },
  {
   "cell_type": "markdown",
   "id": "eb75eb4c-fd33-4780-827c-02dfdc91a950",
   "metadata": {},
   "source": [
    "13ans:\n",
    "    \n",
    " covariance measures the strength and direction of the linear relationship between two variables, while correlation measures the strength and direction of the linear relationship between two variables, but it is scaled to always fall between -1 and 1.\n",
    "    \n",
    " Covariance measures the direction and strength of the linear relationship between two variables. It is a measure of how much two variables vary together. Covariance can take on any value, positive or negative, depending on the direction of the relationship.\n",
    " \n",
    " Correlation, on the other hand, is a standardized version of covariance. It measures the strength and direction of the linear relationship between two variables, but it is scaled to always fall between -1 and 1. A correlation of +1 indicates a perfect positive relationship, while a correlation of -1 indicates a perfect negative relationship. A correlation of 0 indicates no linear relationship between the two variables."
   ]
  },
  {
   "cell_type": "markdown",
   "id": "b677ef86-7d0e-4a47-9784-97e29a0de5b0",
   "metadata": {},
   "source": [
    "14ans:\n",
    "\n",
    "Outliers are values in a dataset that are significantly different from the other values in the dataset. Outliers can have a significant impact on measures of central tendency and dispersion, as they can distort the overall picture of the data.\n",
    "\n"
   ]
  }
 ],
 "metadata": {
  "kernelspec": {
   "display_name": "Python 3 (ipykernel)",
   "language": "python",
   "name": "python3"
  },
  "language_info": {
   "codemirror_mode": {
    "name": "ipython",
    "version": 3
   },
   "file_extension": ".py",
   "mimetype": "text/x-python",
   "name": "python",
   "nbconvert_exporter": "python",
   "pygments_lexer": "ipython3",
   "version": "3.10.8"
  }
 },
 "nbformat": 4,
 "nbformat_minor": 5
}
